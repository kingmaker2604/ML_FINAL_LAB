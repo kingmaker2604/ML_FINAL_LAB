{
 "cells": [
  {
   "cell_type": "code",
   "execution_count": 2,
   "id": "cd4ccde6",
   "metadata": {},
   "outputs": [],
   "source": [
    "#1.Model Measurement Analysis:  "
   ]
  },
  {
   "cell_type": "code",
   "execution_count": null,
   "id": "89dd7282",
   "metadata": {},
   "outputs": [],
   "source": [
    "import seaborn as sb\n",
    "import pandas as pd\n",
    "import matplotlib.pyplot as plt\n",
    "import random\n",
    "from sklearn.metrics import confusion_matrix\n",
    "from sklearn.metrics import accuracy_score, precision_score, recall_score, f1_score, matthews_corrcoef\n",
    "from sklearn.metrics import precision_recall_curve, roc_auc_score, roc_curve"
   ]
  },
  {
   "cell_type": "code",
   "execution_count": null,
   "id": "2007303a",
   "metadata": {},
   "outputs": [],
   "source": [
    "actual_data = [random.randint(0,1) for i in range(20)]\n",
    "predicted_data = actual_data[0:8] + [1,0,0,1] + actual_data[12:]\n",
    "print(\"Actual Data    : \", actual_data)\n",
    "print(\"Predicted Data : \", predicted_data)  "
   ]
  },
  {
   "cell_type": "code",
   "execution_count": null,
   "id": "3546cf4b",
   "metadata": {},
   "outputs": [],
   "source": [
    "tn, fp, fn, tp = confusion_matrix(actual_data, predicted_data).ravel()\n",
    "print(\"TN:\", tn)\n",
    "print(\"FP:\", fp)\n",
    "print(\"FN:\", fn)\n",
    "print(\"TP:\", tp)"
   ]
  },
  {
   "cell_type": "code",
   "execution_count": null,
   "id": "fe31d230",
   "metadata": {},
   "outputs": [],
   "source": [
    "def accuracy(tn, fp, fn, tp):\n",
    "    return (tp+tn)/(tp+fp+tn+fn)\n",
    "\n",
    "def precision(tp, fp):\n",
    "    return tp / (tp + fp)\n",
    "\n",
    "def recall(tp,fn):\n",
    "    return tp / (tp + fn)\n",
    "\n",
    "def f1(tp, fp, fn):\n",
    "    p = precision(tp,fp)\n",
    "    r = recall(tp,fn)\n",
    "    return 2 * (p * r) / (p + r)\n",
    "\n",
    "def mcc(tn, fp, fn, tp):\n",
    "    return ((tp * tn) - (fp * fn))/(((tp + fp) * (tp + fn) * (fp + tn) * (tn + fn)) ** (1/2))"
   ]
  },
  {
   "cell_type": "code",
   "execution_count": null,
   "id": "1dcb72d7",
   "metadata": {},
   "outputs": [],
   "source": [
    "my_accuracy = accuracy(tn, fp, fn, tp)\n",
    "sk_accuracy = accuracy_score(actual_data,predicted_data)\n",
    "print(f\"My Accuracy       : {my_accuracy : 0.4}\")\n",
    "print(f\"sklearn Accuracy  : {sk_accuracy : 0.4}\")\n",
    "\n",
    "my_precision = precision(tp, fp)\n",
    "sk_precision = precision_score(actual_data,predicted_data)\n",
    "print(f\"My Precision      : {my_precision : 0.4}\")\n",
    "print(f\"sklearn Precision : {sk_precision : 0.4}\")\n",
    "\n",
    "my_recall = recall(tp, fn)\n",
    "sk_recall = recall_score(actual_data,predicted_data)\n",
    "print(f\"My Recall         : {my_recall : 0.4}\")\n",
    "print(f\"sklearn Recall    : {sk_recall : 0.4}\")\n",
    "\n",
    "my_f1_score = f1(tp, fp, fn)\n",
    "sk_f1_score = f1_score(actual_data,predicted_data)\n",
    "print(f\"My f1 score       : {my_f1_score : 0.4}\")\n",
    "print(f\"sklearn f1 score  : {sk_f1_score : 0.4}\")\n",
    "\n",
    "my_mcc = mcc(tn, fp, fn, tp)\n",
    "sk_mcc = matthews_corrcoef(actual_data,predicted_data)\n",
    "print(f\"My MCC            : {my_mcc : 0.4}\")\n",
    "print(f\"sklearn MCC       : {sk_mcc : 0.4}\")"
   ]
  },
  {
   "cell_type": "code",
   "execution_count": null,
   "id": "55ed1f41",
   "metadata": {},
   "outputs": [],
   "source": [
    "sk_array = [[tp, fn], [fp, tn]]\n",
    "df = pd.DataFrame(sk_array, range(2), range(2))\n",
    "sb.set(font_scale = 1.4)\n",
    "sb.heatmap(df, annot = True, annot_kws = {\"size\" : 26})\n",
    "\n",
    "print(\"sklearn's Confusion Matrix Plot\")\n",
    "print()\n",
    "print(\"              Predicted Value\")\n",
    "print(\"True Value      TP     FN\")\n",
    "print(\"                FP     TN\")\n",
    "print()\n",
    "print(\"              Predicted Value\")\n",
    "print(f\"True Value      {tp : ^2}     {fn : ^2}\")\n",
    "print(f\"                {fp : ^2}     {tn : ^2}\")\n",
    "plt.show()"
   ]
  },
  {
   "cell_type": "code",
   "execution_count": null,
   "id": "8b6ce740",
   "metadata": {},
   "outputs": [],
   "source": [
    "precision_curve, recall_curve, _ = precision_recall_curve(actual_data, predicted_data)\n",
    "plt.step(recall_curve, precision_curve, color = \"b\", alpha = 0.2, where = \"post\")\n",
    "plt.fill_between(recall_curve, precision_curve, color = \"b\", alpha = 0.2, step = \"post\")\n",
    "plt.xlabel(\"Recall\")\n",
    "plt.ylabel(\"Precision\")\n",
    "plt.xlim([0.0,1.0])\n",
    "plt.ylim([0.0,1.0])\n",
    "plt.title(\"Precision-Recall Curve\")\n",
    "plt.show()"
   ]
  },
  {
   "cell_type": "code",
   "execution_count": null,
   "id": "1d76211e",
   "metadata": {},
   "outputs": [],
   "source": [
    "print(\"sklearn ROC-AUC Score : \", roc_auc_score(actual_data,predicted_data))\n",
    "fpr, tpr, _ = roc_curve(actual_data,predicted_data)\n",
    "plt.figure()\n",
    "plt.plot(fpr,tpr, color = \"orange\", lw = 2, label = \"ROC-AUC Curve\")\n",
    "plt.plot([0,1], [0,1], color = \"blue\", lw = 2, linestyle = \"--\")\n",
    "plt.xlim([0.0, 1.0])\n",
    "plt.ylim([0.0, 1.05])\n",
    "plt.xlabel(\"False Positive Rate\")\n",
    "plt.ylabel(\"True Positive Rate\")\n",
    "plt.title(\"Receiver Operating Characteristics\")\n",
    "plt.legend(loc = \"lower right\")\n",
    "plt.show()"
   ]
  },
  {
   "cell_type": "code",
   "execution_count": null,
   "id": "8a8ba8a7",
   "metadata": {},
   "outputs": [],
   "source": []
  },
  {
   "cell_type": "code",
   "execution_count": null,
   "id": "8f6fd554",
   "metadata": {},
   "outputs": [],
   "source": []
  },
  {
   "cell_type": "code",
   "execution_count": null,
   "id": "6c443de5",
   "metadata": {},
   "outputs": [],
   "source": []
  }
 ],
 "metadata": {
  "kernelspec": {
   "display_name": "Python 3 (ipykernel)",
   "language": "python",
   "name": "python3"
  },
  "language_info": {
   "codemirror_mode": {
    "name": "ipython",
    "version": 3
   },
   "file_extension": ".py",
   "mimetype": "text/x-python",
   "name": "python",
   "nbconvert_exporter": "python",
   "pygments_lexer": "ipython3",
   "version": "3.9.7"
  },
  "vscode": {
   "interpreter": {
    "hash": "7b98c466af1f25054e05fca1286d212f31911ca8ce436bf10ab3d79995517f71"
   }
  }
 },
 "nbformat": 4,
 "nbformat_minor": 5
}
