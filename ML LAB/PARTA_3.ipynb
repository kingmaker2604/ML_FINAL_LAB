{
 "cells": [
  {
   "cell_type": "code",
   "execution_count": 17,
   "id": "43b906fd",
   "metadata": {},
   "outputs": [
    {
     "name": "stdout",
     "output_type": "stream",
     "text": [
      "<class 'pandas.core.frame.DataFrame'>\n",
      "RangeIndex: 167 entries, 0 to 166\n",
      "Data columns (total 11 columns):\n",
      " #   Column      Non-Null Count  Dtype  \n",
      "---  ------      --------------  -----  \n",
      " 0   Unnamed: 0  167 non-null    int64  \n",
      " 1   Country     167 non-null    object \n",
      " 2   Child_Mort  167 non-null    float64\n",
      " 3   Exports     167 non-null    float64\n",
      " 4   Health      167 non-null    float64\n",
      " 5   Imports     167 non-null    float64\n",
      " 6   Income      167 non-null    int64  \n",
      " 7   Inflation   167 non-null    float64\n",
      " 8   Life_Expec  167 non-null    float64\n",
      " 9   Total_Fer   167 non-null    float64\n",
      " 10  GDDP        167 non-null    int64  \n",
      "dtypes: float64(7), int64(3), object(1)\n",
      "memory usage: 14.5+ KB\n"
     ]
    },
    {
     "data": {
      "text/html": [
       "<div>\n",
       "<style scoped>\n",
       "    .dataframe tbody tr th:only-of-type {\n",
       "        vertical-align: middle;\n",
       "    }\n",
       "\n",
       "    .dataframe tbody tr th {\n",
       "        vertical-align: top;\n",
       "    }\n",
       "\n",
       "    .dataframe thead th {\n",
       "        text-align: right;\n",
       "    }\n",
       "</style>\n",
       "<table border=\"1\" class=\"dataframe\">\n",
       "  <thead>\n",
       "    <tr style=\"text-align: right;\">\n",
       "      <th></th>\n",
       "      <th>Unnamed: 0</th>\n",
       "      <th>Child_Mort</th>\n",
       "      <th>Exports</th>\n",
       "      <th>Health</th>\n",
       "      <th>Imports</th>\n",
       "      <th>Income</th>\n",
       "      <th>Inflation</th>\n",
       "      <th>Life_Expec</th>\n",
       "      <th>Total_Fer</th>\n",
       "      <th>GDDP</th>\n",
       "    </tr>\n",
       "  </thead>\n",
       "  <tbody>\n",
       "    <tr>\n",
       "      <th>0</th>\n",
       "      <td>0</td>\n",
       "      <td>90.2</td>\n",
       "      <td>10.0</td>\n",
       "      <td>7.58</td>\n",
       "      <td>44.9</td>\n",
       "      <td>1610</td>\n",
       "      <td>9.44</td>\n",
       "      <td>56.2</td>\n",
       "      <td>5.82</td>\n",
       "      <td>553</td>\n",
       "    </tr>\n",
       "    <tr>\n",
       "      <th>1</th>\n",
       "      <td>1</td>\n",
       "      <td>16.6</td>\n",
       "      <td>28.0</td>\n",
       "      <td>6.55</td>\n",
       "      <td>48.6</td>\n",
       "      <td>9930</td>\n",
       "      <td>4.49</td>\n",
       "      <td>76.3</td>\n",
       "      <td>1.65</td>\n",
       "      <td>4090</td>\n",
       "    </tr>\n",
       "    <tr>\n",
       "      <th>2</th>\n",
       "      <td>2</td>\n",
       "      <td>27.3</td>\n",
       "      <td>38.4</td>\n",
       "      <td>4.17</td>\n",
       "      <td>31.4</td>\n",
       "      <td>12900</td>\n",
       "      <td>16.10</td>\n",
       "      <td>76.5</td>\n",
       "      <td>2.89</td>\n",
       "      <td>4460</td>\n",
       "    </tr>\n",
       "    <tr>\n",
       "      <th>3</th>\n",
       "      <td>3</td>\n",
       "      <td>119.0</td>\n",
       "      <td>62.3</td>\n",
       "      <td>2.85</td>\n",
       "      <td>42.9</td>\n",
       "      <td>5900</td>\n",
       "      <td>22.40</td>\n",
       "      <td>60.1</td>\n",
       "      <td>6.16</td>\n",
       "      <td>3530</td>\n",
       "    </tr>\n",
       "    <tr>\n",
       "      <th>4</th>\n",
       "      <td>4</td>\n",
       "      <td>10.3</td>\n",
       "      <td>45.5</td>\n",
       "      <td>6.03</td>\n",
       "      <td>58.9</td>\n",
       "      <td>19100</td>\n",
       "      <td>1.44</td>\n",
       "      <td>76.8</td>\n",
       "      <td>2.13</td>\n",
       "      <td>12200</td>\n",
       "    </tr>\n",
       "  </tbody>\n",
       "</table>\n",
       "</div>"
      ],
      "text/plain": [
       "   Unnamed: 0  Child_Mort  Exports  Health  Imports  Income  Inflation  \\\n",
       "0           0        90.2     10.0    7.58     44.9    1610       9.44   \n",
       "1           1        16.6     28.0    6.55     48.6    9930       4.49   \n",
       "2           2        27.3     38.4    4.17     31.4   12900      16.10   \n",
       "3           3       119.0     62.3    2.85     42.9    5900      22.40   \n",
       "4           4        10.3     45.5    6.03     58.9   19100       1.44   \n",
       "\n",
       "   Life_Expec  Total_Fer   GDDP  \n",
       "0        56.2       5.82    553  \n",
       "1        76.3       1.65   4090  \n",
       "2        76.5       2.89   4460  \n",
       "3        60.1       6.16   3530  \n",
       "4        76.8       2.13  12200  "
      ]
     },
     "execution_count": 17,
     "metadata": {},
     "output_type": "execute_result"
    }
   ],
   "source": [
    "import numpy as np \n",
    "import pandas as pd \n",
    "from sklearn.preprocessing import Normalizer\n",
    "from sklearn.cluster import KMeans\n",
    "from sklearn import metrics\n",
    "import matplotlib.pyplot as plt\n",
    "import seaborn as sns\n",
    "\n",
    "df = pd.read_csv('167-Countries-Data.csv')\n",
    "df.info()\n",
    "df.drop(columns=['Country'], inplace=True)\n",
    "df.head()"
   ]
  },
  {
   "cell_type": "code",
   "execution_count": 16,
   "id": "12ae6fd9",
   "metadata": {},
   "outputs": [
    {
     "name": "stdout",
     "output_type": "stream",
     "text": [
      "[[0.00000000e+00 5.28625544e-02 5.86059362e-03 ... 3.29365361e-02\n",
      "  3.41086549e-03 3.24090827e-01]\n",
      " [9.31120048e-05 1.54565928e-03 2.60713613e-03 ... 7.10444597e-03\n",
      "  1.53634808e-04 3.80828100e-01]\n",
      " [1.46524689e-04 2.00006201e-03 2.81327403e-03 ... 5.60456936e-03\n",
      "  2.11728176e-04 3.26750057e-01]\n",
      " ...\n",
      " [3.50280283e-02 4.97654305e-03 1.53781588e-02 ... 1.56131029e-02\n",
      "  4.16491800e-04 2.79797056e-01]\n",
      " [3.53195674e-02 1.20514645e-02 6.42173953e-03 ... 1.44489139e-02\n",
      "  9.99650787e-04 2.80415959e-01]\n",
      " [4.61650209e-02 2.31103207e-02 1.02897938e-02 ... 1.44613318e-02\n",
      "  1.50175369e-03 4.06029702e-01]]\n"
     ]
    }
   ],
   "source": [
    "values = Normalizer().fit_transform(df.values) \n",
    "print(values)"
   ]
  },
  {
   "cell_type": "code",
   "execution_count": 18,
   "id": "2dfc8ee3",
   "metadata": {},
   "outputs": [],
   "source": [
    "def clustering_algorithm(n_clusters, dataset):\n",
    "    kmeans = KMeans(n_clusters=n_clusters, n_init=10, max_iter=300)\n",
    "    labels = kmeans.fit_predict(dataset)\n",
    "    s = metrics.silhouette_score(dataset, labels, metric='euclidean')\n",
    "    dbs = metrics.davies_bouldin_score(dataset, labels)\n",
    "    calinski = metrics.calinski_harabasz_score(dataset, labels)\n",
    "    return s, dbs, calinski"
   ]
  },
  {
   "cell_type": "code",
   "execution_count": 19,
   "id": "17f8f682",
   "metadata": {},
   "outputs": [
    {
     "name": "stdout",
     "output_type": "stream",
     "text": [
      "3 0.5003063197051555 0.6511479506810843 417.9394141267293\n",
      "4 0.4437297481488421 0.7925425084569246 385.7955420636326\n",
      "5 0.4744695017438928 0.7236043507085339 380.82587719488373\n",
      "6 0.45362142688190044 0.7690512872877951 395.09383672378385\n",
      "7 0.44386617820353425 0.7363966080047746 399.26777777138096\n",
      "8 0.41112668070539865 0.7278774466023242 394.995190302052\n",
      "9 0.4101929610065311 0.6466683464911467 390.4616228260054\n",
      "10 0.39151528178304434 0.8302425426870542 384.2162389672029\n"
     ]
    }
   ],
   "source": [
    "for i in range(3, 11):\n",
    "    s, dbs, calinski = clustering_algorithm(i, values)\n",
    "    print(i, s, dbs, calinski)"
   ]
  },
  {
   "cell_type": "code",
   "execution_count": 20,
   "id": "fe7cc362",
   "metadata": {},
   "outputs": [
    {
     "name": "stdout",
     "output_type": "stream",
     "text": [
      "0.0976959580198848 2.487171242355491 18.677863833626958\n",
      "0.5003063197051555 0.6511479506810843 417.9394141267293\n"
     ]
    }
   ],
   "source": [
    "random_data = np.random.rand(167,9)\n",
    "s_random, dbs_random, calinski_random = clustering_algorithm(3, random_data)\n",
    "s, dbs, calinski = clustering_algorithm(3, values)\n",
    "\n",
    "print(s_random, dbs_random, calinski_random)\n",
    "print(s, dbs, calinski)"
   ]
  },
  {
   "cell_type": "code",
   "execution_count": 21,
   "id": "62f01844",
   "metadata": {},
   "outputs": [
    {
     "name": "stdout",
     "output_type": "stream",
     "text": [
      "0.506757272758222 0.6246770348774934 160.06266260643585\n",
      "0.5209198549181707 0.6122222665591214 168.5453918380952\n",
      "0.539782198405223 0.5707639638977168 126.83335842388271\n"
     ]
    }
   ],
   "source": [
    "set1, set2, set3 = np.array_split(values, 3)\n",
    "s1, dbs1, calinski1 = clustering_algorithm(3, set1)\n",
    "s2, dbs2, calinski2 = clustering_algorithm(3, set2)\n",
    "s3, dbs3, calinski3 = clustering_algorithm(3, set3)\n",
    "print(s1, dbs1, calinski1)\n",
    "print(s2, dbs2, calinski2)\n",
    "print(s3, dbs3, calinski3)"
   ]
  },
  {
   "cell_type": "code",
   "execution_count": 22,
   "id": "814b4bd3",
   "metadata": {},
   "outputs": [
    {
     "name": "stdout",
     "output_type": "stream",
     "text": [
      "[[2.77421063e-02 2.63970831e-02 8.01967288e-03 2.13523223e-03\n",
      "  1.39658781e-02 9.30551905e-01 2.92353798e-03 1.95564223e-02\n",
      "  1.47750915e-03 3.55790328e-01]\n",
      " [5.48113915e-03 1.89866485e-03 1.41117957e-03 5.18448662e-04\n",
      "  2.90791000e-03 6.78695095e-01 3.45396082e-04 3.63760540e-03\n",
      "  1.78729883e-04 7.29290901e-01]\n",
      " [8.65449009e-03 1.07122842e-02 5.19932833e-03 9.01664763e-04\n",
      "  7.27922236e-03 8.63131966e-01 1.23729337e-03 9.05862129e-03\n",
      "  6.07993444e-04 4.99892452e-01]]\n"
     ]
    }
   ],
   "source": [
    "kmeans = KMeans(n_clusters=3, n_init=10, max_iter=300)\n",
    "y_pred = kmeans.fit_predict(values)\n",
    "labels = kmeans.labels_\n",
    "\n",
    "df['labels'] = labels\n",
    "centroids = kmeans.cluster_centers_\n",
    "print(centroids)"
   ]
  },
  {
   "cell_type": "code",
   "execution_count": 23,
   "id": "99102d07",
   "metadata": {},
   "outputs": [],
   "source": [
    "df_0 = df[df['labels'] == 0]\n",
    "df_1 = df[df['labels'] == 1]\n",
    "df_2 = df[df['labels'] == 2]"
   ]
  },
  {
   "cell_type": "code",
   "execution_count": 24,
   "id": "db2439bc",
   "metadata": {},
   "outputs": [
    {
     "data": {
      "text/plain": [
       "<function matplotlib.pyplot.show(close=None, block=None)>"
      ]
     },
     "execution_count": 24,
     "metadata": {},
     "output_type": "execute_result"
    },
    {
     "data": {
      "image/png": "[encoded data removed]",
      "text/plain": [
       "<Figure size 640x480 with 1 Axes>"
      ]
     },
     "metadata": {},
     "output_type": "display_data"
    }
   ],
   "source": [
    "plt.figure(figsize=(8, 6), dpi=80)\n",
    "plt.scatter(df_0['Income'], df_0['GDDP'], c='blue', s=10, label='Lower net income per person and The GDP per capita.')\n",
    "plt.scatter(df_1['Income'], df_1['GDDP'], c='red', s=10, label='Highest net income per person and The GDP per capita')\n",
    "plt.scatter(df_2['Income'], df_2['GDDP'], c='green', s=10, label='Medium Net income per person and The GDP per capita')\n",
    "\n",
    "plt.xlabel('Net Income per person')\n",
    "plt.ylabel('GDP per capita')\n",
    "plt.legend(),\n",
    "plt.show"
   ]
  },
  {
   "cell_type": "code",
   "execution_count": 25,
   "id": "31e03804",
   "metadata": {},
   "outputs": [],
   "source": [
    "def elbow_method(X):\n",
    "    wcss = []\n",
    "    for i in range(1, 11):\n",
    "        kmeans = KMeans(n_clusters=i, n_init=10, max_iter=300)\n",
    "        kmeans.fit(X)\n",
    "        wcss.append(kmeans.inertia_)\n",
    "    plt.plot(range(1, 11), wcss)\n",
    "    plt.title('Elbow Method')\n",
    "    plt.xlabel('Number of Clusters')\n",
    "    plt.ylabel('WCSS')\n",
    "    plt.show()"
   ]
  },
  {
   "cell_type": "code",
   "execution_count": 26,
   "id": "a91e6550",
   "metadata": {},
   "outputs": [],
   "source": [
    "def silhouette_method(X):\n",
    "    silhouette_scores = []\n",
    "    for i in range(2, 11):\n",
    "        kmeans = KMeans(n_clusters=i, n_init=10, max_iter=300)\n",
    "        kmeans.fit(X)\n",
    "        labels = kmeans.predict(X)\n",
    "        silhouette_scores.append(metrics.silhouette_score(X, labels, metric='euclidean'))\n",
    "    plt.plot(range(2, 11), silhouette_scores)\n",
    "    plt.title('Silhouette Method')\n",
    "    plt.xlabel('Number of Clusters')\n",
    "    plt.ylabel('Silhouette Score')\n",
    "    plt.show()"
   ]
  },
  {
   "cell_type": "code",
   "execution_count": 21,
   "id": "1d9efc22",
   "metadata": {},
   "outputs": [
    {
     "name": "stderr",
     "output_type": "stream",
     "text": [
      "C:\\Users\\MAHIMA\\anaconda3\\lib\\site-packages\\sklearn\\cluster\\_kmeans.py:1036: UserWarning: KMeans is known to have a memory leak on Windows with MKL, when there are less chunks than available threads. You can avoid it by setting the environment variable OMP_NUM_THREADS=1.\n",
      "  warnings.warn(\n"
     ]
    },
    {
     "data": {
      "image/png": "[encoded data removed]",
      "text/plain": [
       "<Figure size 640x480 with 1 Axes>"
      ]
     },
     "metadata": {},
     "output_type": "display_data"
    },
    {
     "data": {
      "image/png": "[encoded data removed]",
      "text/plain": [
       "<Figure size 640x480 with 1 Axes>"
      ]
     },
     "metadata": {},
     "output_type": "display_data"
    }
   ],
   "source": [
    "elbow_method(values)\n",
    "silhouette_method(values)"
   ]
  },
  {
   "cell_type": "code",
   "execution_count": 22,
   "id": "3cd716d2",
   "metadata": {},
   "outputs": [
    {
     "name": "stdout",
     "output_type": "stream",
     "text": [
      "The given data belongs to class -  1\n"
     ]
    }
   ],
   "source": [
    "nf = [[7,4.8,19.8,8.73,20.9,41400,1.16,82.0,1.93,51900]]\n",
    "custom_point = np.array(nf)\n",
    "cluster = kmeans.predict(custom_point.reshape(1, -1))[0]\n",
    "print(\"The given data belongs to class - \",cluster)"
   ]
  },
  {
   "cell_type": "code",
   "execution_count": 23,
   "id": "deec54d0",
   "metadata": {},
   "outputs": [
    {
     "name": "stdout",
     "output_type": "stream",
     "text": [
      "The given data belongs to class -  2\n"
     ]
    }
   ],
   "source": [
    "nf = [[22,19.8,10.7,9.01,11.8,14500,8.41,74.2,1.8,11200]]\n",
    "custom_point = np.array(nf)\n",
    "cluster = kmeans.predict(custom_point.reshape(1, -1))[0]\n",
    "print(\"The given data belongs to class - \",cluster)"
   ]
  },
  {
   "cell_type": "code",
   "execution_count": 24,
   "id": "8f77ac56",
   "metadata": {},
   "outputs": [
    {
     "name": "stdout",
     "output_type": "stream",
     "text": [
      "The given data belongs to class -  0\n"
     ]
    }
   ],
   "source": [
    "nf = [[69,58.8,22.6,4.05,27.1,4410,8.98,66.2,2.6,135]]\n",
    "custom_point = np.array(nf)\n",
    "cluster = kmeans.predict(custom_point.reshape(1, -1))[0]\n",
    "print(\"The given data belongs to class - \",cluster)"
   ]
  },
  {
   "cell_type": "code",
   "execution_count": null,
   "id": "c1723121",
   "metadata": {},
   "outputs": [],
   "source": []
  }
 ],
 "metadata": {
  "kernelspec": {
   "display_name": "Python 3 (ipykernel)",
   "language": "python",
   "name": "python3"
  },
  "language_info": {
   "codemirror_mode": {
    "name": "ipython",
    "version": 3
   },
   "file_extension": ".py",
   "mimetype": "text/x-python",
   "name": "python",
   "nbconvert_exporter": "python",
   "pygments_lexer": "ipython3",
   "version": "3.9.13"
  }
 },
 "nbformat": 4,
 "nbformat_minor": 5
}
